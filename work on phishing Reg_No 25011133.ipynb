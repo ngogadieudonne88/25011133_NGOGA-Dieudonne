{
  "nbformat": 4,
  "nbformat_minor": 0,
  "metadata": {
    "colab": {
      "provenance": [],
      "authorship_tag": "ABX9TyPDKcoT8q+uBHpxixTz8WU5",
      "include_colab_link": true
    },
    "kernelspec": {
      "name": "python3",
      "display_name": "Python 3"
    },
    "language_info": {
      "name": "python"
    }
  },
  "cells": [
    {
      "cell_type": "markdown",
      "metadata": {
        "id": "view-in-github",
        "colab_type": "text"
      },
      "source": [
        "<a href=\"https://colab.research.google.com/github/ngogadieudonne88/25011133_NGOGA-Dieudonne/blob/main/work%20on%20phishing%20Reg_No%2025011133.ipynb\" target=\"_parent\"><img src=\"https://colab.research.google.com/assets/colab-badge.svg\" alt=\"Open In Colab\"/></a>"
      ]
    },
    {
      "cell_type": "code",
      "execution_count": 11,
      "metadata": {
        "colab": {
          "base_uri": "https://localhost:8080/"
        },
        "id": "7I9_Fv_JC1T1",
        "outputId": "7c7d44c1-f953-42cd-dbed-479b3a0d896a"
      },
      "outputs": [
        {
          "output_type": "stream",
          "name": "stdout",
          "text": [
            "   Email_ID                                           content\n",
            "0         1                Don't forget our meeting at 10 AM.\n",
            "1         2                Get 20% off on your next purchase!\n",
            "2         3       You are invited for an interview on Friday.\n",
            "3         4                         Got it! See you at 10 AM.\n",
            "4         5                Click here to reset your password.\n",
            "5         6                      The project is 80% complete.\n",
            "6         7                     Your exams start next Monday.\n",
            "7         8  A withdrawal of $500 was made from your account.\n",
            "8         9               Check out this month’s top stories.\n",
            "9        10                  Are we still on for lunch today?\n",
            "Phishing detection complete. ✅\n"
          ]
        }
      ],
      "source": [
        "\n",
        "import pandas as pd\n",
        "pd.set_option('display.max_colwidth', None)\n",
        "df = pd.read_csv('/content/REG_No 25011133.csv')\n",
        "print(df)\n",
        "\n",
        "\n",
        "# Define phishing keywords\n",
        "phishing_keywords = [\"urgent\", \"password reset\", \"bank\", \"verify\", \"account suspended\"]\n",
        "#These are words commonly found in phishing emails.\n",
        "#The script will check if an email contains any of these words.\n",
        "\n",
        "# Load the dataset (uploaded file)\n",
        "emails = pd.read_csv('/content/REG_No 25011133.csv')\n",
        "\n",
        "# Check if the 'content' column exists\n",
        "if 'content' in emails.columns:\n",
        "    # Apply phishing detection\n",
        "    emails[\"is_phishing\"] = emails[\"content\"].apply(\n",
        "        lambda x: any(keyword in str(x).lower() for keyword in phishing_keywords)\n",
        "    )\n",
        "\n",
        "\n",
        "    # Save the processed file\n",
        "    emails.to_csv(\"/content/25011133.csv\", index=False)\n",
        "    print(\"Phishing detection complete. ✅\")\n"
      ]
    }
  ]
}