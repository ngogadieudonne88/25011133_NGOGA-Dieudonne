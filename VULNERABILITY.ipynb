{
  "nbformat": 4,
  "nbformat_minor": 0,
  "metadata": {
    "colab": {
      "provenance": [],
      "authorship_tag": "ABX9TyP/ppxH1adhaQ9C44vOATwh",
      "include_colab_link": true
    },
    "kernelspec": {
      "name": "python3",
      "display_name": "Python 3"
    },
    "language_info": {
      "name": "python"
    }
  },
  "cells": [
    {
      "cell_type": "markdown",
      "metadata": {
        "id": "view-in-github",
        "colab_type": "text"
      },
      "source": [
        "<a href=\"https://colab.research.google.com/github/ngogadieudonne88/25011133_NGOGA-Dieudonne/blob/main/VULNERABILITY.ipynb\" target=\"_parent\"><img src=\"https://colab.research.google.com/assets/colab-badge.svg\" alt=\"Open In Colab\"/></a>"
      ]
    },
    {
      "cell_type": "code",
      "execution_count": 13,
      "metadata": {
        "colab": {
          "base_uri": "https://localhost:8080/"
        },
        "id": "Uon1-eT8aKsT",
        "outputId": "c729852a-bb07-44cd-80ce-8b06890aa217"
      },
      "outputs": [
        {
          "output_type": "stream",
          "name": "stdout",
          "text": [
            "No SQL Injection vulnerability detected\n"
          ]
        }
      ],
      "source": [
        "import requests\n",
        "\n",
        "def check_sql_injection(url):\n",
        "  payload = \"' OR '1'='1\"\n",
        "#sending request\n",
        "  response = requests.get(url + payload)\n",
        "#checking responses\n",
        "  if \"error\" in response.text.lower():\n",
        "    return \"Potential SQL Injection vulnerability found!\"\n",
        "  return \"No SQL Injection vulnerability detected\"\n",
        "\n",
        "#Example usage you can use yours\n",
        "url = \"https://juice-shop.herokuapp.com/#/\"\n",
        "result = check_sql_injection(url)\n",
        "print(result)"
      ]
    },
    {
      "cell_type": "code",
      "source": [],
      "metadata": {
        "id": "5thUNFlWh0xI"
      },
      "execution_count": null,
      "outputs": []
    }
  ]
}