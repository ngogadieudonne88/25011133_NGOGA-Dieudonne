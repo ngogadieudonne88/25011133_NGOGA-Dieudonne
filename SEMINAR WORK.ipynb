{
  "nbformat": 4,
  "nbformat_minor": 0,
  "metadata": {
    "colab": {
      "provenance": [],
      "authorship_tag": "ABX9TyNGT7ydEZGPd8AJfuvjcCk5",
      "include_colab_link": true
    },
    "kernelspec": {
      "name": "python3",
      "display_name": "Python 3"
    },
    "language_info": {
      "name": "python"
    }
  },
  "cells": [
    {
      "cell_type": "markdown",
      "metadata": {
        "id": "view-in-github",
        "colab_type": "text"
      },
      "source": [
        "<a href=\"https://colab.research.google.com/github/ngogadieudonne88/25011133_NGOGA-Dieudonne/blob/main/SEMINAR%20WORK.ipynb\" target=\"_parent\"><img src=\"https://colab.research.google.com/assets/colab-badge.svg\" alt=\"Open In Colab\"/></a>"
      ]
    },
    {
      "cell_type": "code",
      "source": [
        "import random\n",
        "file1 =\"History is the systematic of the part\"\n",
        "file2 =\"History the systematic study of the part this is the just for practice\"\n",
        "\n",
        "def jarcard_similarity(text1, text2):\n",
        "  set1 = set(text1.split())\n",
        "  set2 = set(text2.split())\n",
        "  intersection = set1.intersection(set2)\n",
        "  union = set1.union(set2)\n",
        "  similarity = len(intersection) / len(union)\n",
        "  return similarity, intersection\n",
        "\n",
        "\n",
        "text1 = \"History is the systematic study of the part\"\n",
        "text2 = \"History the systematic study of the part this is the just for  practice\"\n",
        "similarity,common_words = jarcard_similarity(text1, text2)\n",
        "print(f\"similarity: {similarity:.2f}\")\n",
        "print(f\"common words: {common_words}\")"
      ],
      "metadata": {
        "colab": {
          "base_uri": "https://localhost:8080/",
          "height": 0
        },
        "id": "GayHAtNE765u",
        "outputId": "918a393c-46b0-4ee9-b25c-61a972087096"
      },
      "execution_count": 40,
      "outputs": [
        {
          "output_type": "stream",
          "name": "stdout",
          "text": [
            "similarity: 0.64\n",
            "common words: {'is', 'of', 'History', 'study', 'part', 'the', 'systematic'}\n"
          ]
        }
      ]
    }
  ]
}