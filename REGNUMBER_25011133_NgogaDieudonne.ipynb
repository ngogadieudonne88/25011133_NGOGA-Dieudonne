{
  "nbformat": 4,
  "nbformat_minor": 0,
  "metadata": {
    "colab": {
      "provenance": [],
      "authorship_tag": "ABX9TyMPWbwUjUyh5b6f3Fgserqy",
      "include_colab_link": true
    },
    "kernelspec": {
      "name": "python3",
      "display_name": "Python 3"
    },
    "language_info": {
      "name": "python"
    }
  },
  "cells": [
    {
      "cell_type": "markdown",
      "metadata": {
        "id": "view-in-github",
        "colab_type": "text"
      },
      "source": [
        "<a href=\"https://colab.research.google.com/github/ngogadieudonne88/25011133_NGOGA-Dieudonne/blob/main/REGNUMBER_25011133_NgogaDieudonne.ipynb\" target=\"_parent\"><img src=\"https://colab.research.google.com/assets/colab-badge.svg\" alt=\"Open In Colab\"/></a>"
      ]
    },
    {
      "cell_type": "code",
      "execution_count": null,
      "metadata": {
        "colab": {
          "base_uri": "https://localhost:8080/"
        },
        "id": "U-BIoqVJBpks",
        "outputId": "f677d06a-e105-4327-b337-3c27219831de"
      },
      "outputs": [
        {
          "output_type": "stream",
          "name": "stdout",
          "text": [
            "Starting website monitoring...\n",
            "Website https://example.com is up (Status: 200)\n",
            "Website https://another-website.com is unreachable. Error: HTTPSConnectionPool(host='another-website.com', port=443): Max retries exceeded with url: / (Caused by NameResolutionError(\"<urllib3.connection.HTTPSConnection object at 0x7a0bd52ce690>: Failed to resolve 'another-website.com' ([Errno -2] Name or service not known)\"))\n"
          ]
        },
        {
          "output_type": "stream",
          "name": "stderr",
          "text": [
            "ERROR:root:Error sending email: (535, b'5.7.8 Username and Password not accepted. For more information, go to\\n5.7.8  https://support.google.com/mail/?p=BadCredentials d9443c01a7336-2230a0a619fsm17387105ad.195 - gsmtp')\n",
            "ERROR:root:Slack alert failed: 404 - no_team\n"
          ]
        },
        {
          "output_type": "stream",
          "name": "stdout",
          "text": [
            "Website https://uok.ac.rw is up (Status: 200)\n",
            "Website https://example.com is up (Status: 200)\n",
            "Website https://another-website.com is unreachable. Error: HTTPSConnectionPool(host='another-website.com', port=443): Max retries exceeded with url: / (Caused by NameResolutionError(\"<urllib3.connection.HTTPSConnection object at 0x7a0bd52bbad0>: Failed to resolve 'another-website.com' ([Errno -2] Name or service not known)\"))\n"
          ]
        },
        {
          "output_type": "stream",
          "name": "stderr",
          "text": [
            "ERROR:root:Error sending email: (535, b'5.7.8 Username and Password not accepted. For more information, go to\\n5.7.8  https://support.google.com/mail/?p=BadCredentials 41be03b00d2f7-aeda79a30f4sm1672346a12.22 - gsmtp')\n",
            "ERROR:root:Slack alert failed: 404 - no_team\n"
          ]
        },
        {
          "output_type": "stream",
          "name": "stdout",
          "text": [
            "Website https://uok.ac.rw is up (Status: 200)\n"
          ]
        }
      ],
      "source": [
        "import requests\n",
        "import time\n",
        "import logging\n",
        "import smtplib\n",
        "from email.mime.text import MIMEText\n",
        "from email.mime.multipart import MIMEMultipart\n",
        "\n",
        "# Configuration\n",
        "CHECK_INTERVAL = 300  # 5 minutes in seconds\n",
        "URLS_TO_MONITOR = [\n",
        "    \"https://example.com\",\n",
        "    \"https://another-website.com\",\n",
        "    \"https://uok.ac.rw\"\n",
        "]\n",
        "\n",
        "# Email configuration\n",
        "SMTP_SERVER = \"smtp.gmail.com\"  # Replace with your SMTP server\n",
        "SMTP_PORT = 587  # Replace with your SMTP port\n",
        "SENDER_EMAIL = \"your-email@gmail.com\"  # Replace with your email address\n",
        "SENDER_PASSWORD = \"your-email-password\"  # Replace with your email password\n",
        "RECIPIENT_EMAIL = \"recipient-email@example.com\"  # Replace with recipient email address\n",
        "\n",
        "# Slack configuration\n",
        "SLACK_WEBHOOK_URL = \"https://hooks.slack.com/services/your/slack/webhook\"  # Replace with your Slack webhook URL\n",
        "\n",
        "# Logging configuration\n",
        "logging.basicConfig(filename=\"website_monitor.log\", level=logging.INFO,\n",
        "                    format=\"%(asctime)s - %(levelname)s - %(message)s\")\n",
        "\n",
        "def send_email(subject, body):\n",
        "    \"\"\"Send an email notification.\"\"\"\n",
        "    try:\n",
        "        msg = MIMEMultipart()\n",
        "        msg[\"From\"] = SENDER_EMAIL\n",
        "        msg[\"To\"] = RECIPIENT_EMAIL\n",
        "        msg[\"Subject\"] = subject\n",
        "        msg.attach(MIMEText(body, \"plain\"))\n",
        "\n",
        "        with smtplib.SMTP(SMTP_SERVER, SMTP_PORT) as server:\n",
        "            server.starttls()\n",
        "            server.login(SENDER_EMAIL, SENDER_PASSWORD)\n",
        "            server.sendmail(SENDER_EMAIL, RECIPIENT_EMAIL, msg.as_string())\n",
        "        logging.info(\"Email notification sent successfully.\")\n",
        "    except Exception as e:\n",
        "        logging.error(f\"Error sending email: {e}\")\n",
        "\n",
        "def send_slack_alert(message):\n",
        "    \"\"\"Send a Slack notification.\"\"\"\n",
        "    try:\n",
        "        payload = {\"text\": message}\n",
        "        response = requests.post(SLACK_WEBHOOK_URL, json=payload)\n",
        "        if response.status_code != 200:\n",
        "            logging.error(f\"Slack alert failed: {response.status_code} - {response.text}\")\n",
        "        else:\n",
        "            logging.info(\"Slack notification sent successfully.\")\n",
        "    except Exception as e:\n",
        "        logging.error(f\"Error sending Slack alert: {e}\")\n",
        "\n",
        "def check_website(url):\n",
        "    \"\"\"Check if a website is up and running.\"\"\"\n",
        "    try:\n",
        "        response = requests.get(url, timeout=5)\n",
        "        if response.status_code == 200:\n",
        "            return f\"Website {url} is up (Status: {response.status_code})\"\n",
        "        else:\n",
        "            return f\"Website {url} returned an unexpected status code: {response.status_code}\"\n",
        "    except requests.exceptions.RequestException as e:\n",
        "        return f\"Website {url} is unreachable. Error: {e}\"\n",
        "\n",
        "def monitor_websites():\n",
        "    \"\"\"Monitor multiple websites and send alerts if any are down.\"\"\"\n",
        "    while True:\n",
        "        for url in URLS_TO_MONITOR:\n",
        "            result = check_website(url)\n",
        "            logging.info(result)\n",
        "            print(result)  # Print to console for real-time monitoring\n",
        "\n",
        "            # Send alerts if the website is down\n",
        "            if \"unreachable\" in result.lower() or \"unexpected\" in result.lower():\n",
        "                subject = f\"Website Down Alert: {url}\"\n",
        "                body = f\"The website {url} is down or unreachable.\\n\\nDetails: {result}\"\n",
        "                send_email(subject, body)\n",
        "                send_slack_alert(f\"🚨 {subject}\\n{body}\")\n",
        "\n",
        "        # Wait for the next check\n",
        "        time.sleep(CHECK_INTERVAL)\n",
        "\n",
        "if __name__ == \"__main__\":\n",
        "    print(\"Starting website monitoring...\")\n",
        "    monitor_websites()"
      ]
    }
  ]
}