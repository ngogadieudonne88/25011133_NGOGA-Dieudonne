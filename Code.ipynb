{
  "nbformat": 4,
  "nbformat_minor": 0,
  "metadata": {
    "colab": {
      "provenance": [],
      "authorship_tag": "ABX9TyN0S5AordgJpA6GYB8fCSrp",
      "include_colab_link": true
    },
    "kernelspec": {
      "name": "python3",
      "display_name": "Python 3"
    },
    "language_info": {
      "name": "python"
    }
  },
  "cells": [
    {
      "cell_type": "markdown",
      "metadata": {
        "id": "view-in-github",
        "colab_type": "text"
      },
      "source": [
        "<a href=\"https://colab.research.google.com/github/ngogadieudonne88/25011133_NGOGA-Dieudonne/blob/main/Code.ipynb\" target=\"_parent\"><img src=\"https://colab.research.google.com/assets/colab-badge.svg\" alt=\"Open In Colab\"/></a>"
      ]
    },
    {
      "cell_type": "code",
      "source": [
        "# Biased hiring algorithm\n",
        "import random\n",
        "candidates = [{'name':'Mutesi','gender':'F', 'Age':21},{'name':'ngabo', 'gender':'M','Age':30}]\n",
        "def biased_hire(candidates):\n",
        "  return [candidate for candidate in candidates if candidate['gender']=='M']\n",
        "print(\"biased hire:\", biased_hire(candidates))\n",
        "\n",
        "def fiar_hire(candidates):\n",
        "    return random.choice(candidates)\n",
        "\n",
        "print(\"fiar_hiring:\",fiar_hire(candidates))"
      ],
      "metadata": {
        "id": "LnXaTeyo6aPe",
        "colab": {
          "base_uri": "https://localhost:8080/"
        },
        "outputId": "ce61ba61-adf0-4d9c-b5ba-cc0c9f36d2c1"
      },
      "execution_count": 27,
      "outputs": [
        {
          "output_type": "stream",
          "name": "stdout",
          "text": [
            "biased hire: [{'name': 'ngabo', 'gender': 'M', 'Age': 30}]\n",
            "fiar_hiring: {'name': 'ngabo', 'gender': 'M', 'Age': 30}\n"
          ]
        }
      ]
    },
    {
      "cell_type": "markdown",
      "source": [],
      "metadata": {
        "id": "Fqv2Dw-o48VP"
      }
    }
  ]
}